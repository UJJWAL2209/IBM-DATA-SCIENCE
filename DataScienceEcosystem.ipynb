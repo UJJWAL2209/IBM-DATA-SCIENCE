{
 "cells": [
  {
   "cell_type": "markdown",
   "metadata": {},
   "source": [
    "# Data Science Tools and Ecosystem"
   ]
  },
  {
   "cell_type": "markdown",
   "metadata": {},
   "source": [
    "<span style=\"color: turquoise\">Introduction to Data Science Tools and Ecosystem</span> 🌊\n",
    "Welcome to this Jupyter Notebook, where we embark on a thrilling journey through the vibrant world of data science tools and their captivating ecosystem! 💠\n",
    "\n",
    "<span style=\"color: turquoise\">The Power of Data Science Tools</span>\n",
    "Data science tools empower us to make sense of the vast amount of data around us. They allow us to extract valuable insights, make data-driven decisions, and uncover hidden patterns. These tools are the building blocks that fuel innovation and progress in various industries.\n",
    "\n",
    "<span style=\"color: turquoise\">Exploring the Ecosystem</span> 🌿\n",
    "The data science ecosystem is a lush landscape teeming with diverse tools and libraries. We'll encounter powerful entities like:\n",
    "\n",
    "<span style=\"color: turquoise\">NumPy and Pandas</span>\n",
    "Numpy and Pandas are the stalwarts of data manipulation and analysis in Python. They provide an array of functions to handle data with ease.\n",
    "\n",
    "<span style=\"color: turquoise\">Matplotlib and Seaborn</span>\n",
    "Matplotlib and Seaborn are the artists of the ecosystem, bringing data to life through stunning visualizations.\n",
    "\n",
    "<span style=\"color: turquoise\">SciPy and Scikit-learn</span>\n",
    "SciPy offers a collection of scientific tools, while Scikit-learn provides a playground for machine learning adventures.\n",
    "\n",
    "<span style=\"color: turquoise\">TensorFlow and PyTorch</span>\n",
    "TensorFlow and PyTorch are the powerful engines that drive deep learning, enabling us to build intelligent models.\n",
    "\n",
    "<span style=\"color: turquoise\">Jupyter Notebook and JupyterLab</span>\n",
    "Jupyter Notebook and JupyterLab act as our trusty tour guides throughout this expedition, facilitating interactive coding, documentation, and visualization.\n",
    "\n",
    "<span style=\"color: turquoise\">Interactive Widgets</span>\n",
    "Interactive widgets offer an enchanting experience, letting us interact with data and models like never before.\n",
    "\n",
    "<span style=\"color: turquoise\">Unleashing Your Potential</span> 🚀\n",
    "Data science is not just about tools; it's about creativity, curiosity, and problem-solving. As we navigate through this turquoise-tinged landscape, let's harness the power of these tools to create impactful solutions.\n",
    "\n",
    "Remember, data science is an ever-evolving realm, so embrace the journey with an open heart and an inquisitive mind. Together, let's explore, learn, and make a positive impact on the world through data-driven insights! 🌟"
   ]
  },
  {
   "cell_type": "markdown",
   "metadata": {},
   "source": [
    "## Some of the popular languages that Data Scientists use are:\n",
    "\n",
    "1. Python\n",
    "2. R\n",
    "3. Julia\n",
    "\n",
    "Python is undoubtedly the most widely used language in the data science community. Its simplicity, versatility, and extensive libraries like NumPy, Pandas, and Scikit-learn make it a top choice for data manipulation, analysis, and machine learning.\n",
    "\n",
    "R, on the other hand, is highly regarded for its powerful statistical capabilities and visualization libraries like ggplot2. Data scientists often prefer R for in-depth statistical analysis and generating publication-quality graphs.\n",
    "\n",
    "Julia, a rising star in the data science world, is known for its speed and performance. It combines the best of both Python and R, making it an attractive option for computationally intensive tasks and research-based projects.\n",
    "\n",
    "Other languages like SQL, Scala, and MATLAB also find utility in specific data science scenarios, but Python, R, and Julia continue to dominate the landscape with their rich ecosystems and passionate communities.\n"
   ]
  },
  {
   "cell_type": "markdown",
   "metadata": {},
   "source": [
    "## <span style=\"color: red;\">Some of the commonly used libraries used by Data Scientists include:</span>\n",
    "\n",
    "1. <span style=\"color: red;\">NumPy</span>\n",
    "2. <span style=\"color: red;\">Pandas</span>\n",
    "3. <span style=\"color: red;\">Matplotlib</span>\n",
    "4. <span style=\"color: red;\">Scikit-learn</span>\n",
    "\n",
    "Data scientists heavily rely on various libraries to streamline their data analysis and machine learning workflows. Let's explore some of the most essential ones:\n",
    "\n",
    "1. <span style=\"color: red;\">NumPy</span>: NumPy stands at the core of numerical computing in Python. It provides support for large, multi-dimensional arrays and matrices, along with a plethora of mathematical functions to operate on these arrays efficiently. NumPy is the foundation on which many other data science libraries are built.\n",
    "\n",
    "2. <span style=\"color: red;\">Pandas</span>: Pandas is a versatile data manipulation library that brings the power of data frames to Python. It offers easy-to-use data structures like DataFrames and Series, enabling data wrangling, cleaning, merging, and aggregation tasks with ease. Pandas simplifies the data preparation process for analysis and visualization.\n",
    "\n",
    "3. <span style=\"color: red;\">Matplotlib</span>: When it comes to data visualization in Python, Matplotlib is the go-to library. It provides a wide range of plotting options, from simple line charts to complex 3D visualizations. With Matplotlib, data scientists can effectively communicate their findings through compelling graphs and charts.\n",
    "\n",
    "4. <span style=\"color: red;\">Scikit-learn</span>: Scikit-learn is a comprehensive machine learning library that covers a broad spectrum of algorithms for classification, regression, clustering, and more. It provides a consistent API and is widely used for building predictive models, making it an indispensable tool for data scientists.\n",
    "\n",
    "These libraries form the backbone of data science projects and enable data scientists to efficiently analyze, manipulate, and visualize data while building robust machine learning models.\n"
   ]
  },
  {
   "cell_type": "markdown",
   "metadata": {},
   "source": [
    "| <span style=\"font-size: 18px; text-align: left;\">Data Science Tools</span> |\n",
    "|----------------------------------------|\n",
    "| <span style=\"font-size: 16px; text-align: left;\">Jupyter Notebook</span>        |\n",
    "| <span style=\"font-size: 16px; text-align: left;\">RStudio</span>                 |\n",
    "| <span style=\"font-size: 16px; text-align: left;\">Visual Studio Code (VS Code)</span> |\n",
    "\n"
   ]
  },
  {
   "cell_type": "markdown",
   "metadata": {},
   "source": [
    "### Below are a few examples of evaluating arithmetic expressions in Python.\n",
    "\n",
    "Arithmetic expressions are fundamental in Python for performing various mathematical operations. Python supports standard arithmetic operators such as addition (+), subtraction (-), multiplication (*), division (/), and more.  Let's explore some examples to understand how Python evaluates these expressions:\n",
    "\n",
    "1. **Addition**:\n",
    "```python\n",
    "result = 5 + 3\n",
    "print(result)  # Output: 8\n",
    "2. **Substraction**:\n",
    "```python\n",
    "result = 10 - 2\n",
    "print(result)  # Output: 8\n",
    "3. **Multiplication**:\n",
    "```python\n",
    "result = 6 * 4\n",
    "print(result)  # Output: 24\n",
    "4. **Division**:\n",
    "```python\n",
    "result = 15 / 2\n",
    "print(result)  # Output: 7.5\n",
    "5. **Modulo**:\n",
    "```python\n",
    "result = 17 % 5\n",
    "print(result)  # Output: 2\n",
    "6. **Exponentiation**:\n",
    "```python\n",
    "result = 2 ** 3\n",
    "print(result)  # Output: 8\n"
   ]
  },
  {
   "cell_type": "code",
   "execution_count": 1,
   "metadata": {},
   "outputs": [
    {
     "name": "stdout",
     "output_type": "stream",
     "text": [
      "17\n"
     ]
    }
   ],
   "source": [
    "# This is a simple arithmetic expression to multiply then add integers.\n",
    "result = (3 * 4) + 5\n",
    "print(result)  # Output: 17\n"
   ]
  },
  {
   "cell_type": "code",
   "execution_count": 2,
   "metadata": {},
   "outputs": [
    {
     "name": "stdout",
     "output_type": "stream",
     "text": [
      "3.3333333333333335\n"
     ]
    }
   ],
   "source": [
    "# This will convert 200 minutes to hours by dividing by 60.\n",
    "minutes = 200\n",
    "hours = minutes / 60\n",
    "print(hours)  # Output: 3.3333333333333335\n"
   ]
  },
  {
   "cell_type": "markdown",
   "metadata": {},
   "source": [
    "**Objectives:**\n",
    "\n",
    "- List popular languages for Data Science.\n",
    "- Explore essential data science libraries like NumPy, Pandas, Matplotlib, and Scikit-learn.\n",
    "- Introduce arithmetic expression examples and their evaluation in Python.\n",
    "- Demonstrate the conversion of minutes to hours using Python expressions.\n",
    "- Provide an overview of Jupyter Notebook and its role in the data science ecosystem.\n"
   ]
  },
  {
   "cell_type": "markdown",
   "metadata": {},
   "source": [
    "## Author\n",
    "\n",
    "Ujjwal Srivastava"
   ]
  }
 ],
 "metadata": {
  "kernelspec": {
   "display_name": "Python 3",
   "language": "python",
   "name": "python3"
  },
  "language_info": {
   "codemirror_mode": {
    "name": "ipython",
    "version": 3
   },
   "file_extension": ".py",
   "mimetype": "text/x-python",
   "name": "python",
   "nbconvert_exporter": "python",
   "pygments_lexer": "ipython3",
   "version": "3.8.3"
  }
 },
 "nbformat": 4,
 "nbformat_minor": 4
}
